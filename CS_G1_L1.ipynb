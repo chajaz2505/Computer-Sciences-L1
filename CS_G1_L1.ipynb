{
  "nbformat": 4,
  "nbformat_minor": 0,
  "metadata": {
    "colab": {
      "provenance": [],
      "toc_visible": true
    },
    "kernelspec": {
      "name": "python3",
      "display_name": "Python 3"
    },
    "language_info": {
      "name": "python"
    }
  },
  "cells": [
    {
      "cell_type": "markdown",
      "source": [
        "# Lesson 1 : 23/09/2024\n"
      ],
      "metadata": {
        "id": "U6wkmpaxn5Su"
      }
    },
    {
      "cell_type": "code",
      "source": [
        "print(10)\n",
        "print(\"Hello world\")\n",
        "print(\"London\",\"Paris\")"
      ],
      "metadata": {
        "colab": {
          "base_uri": "https://localhost:8080/"
        },
        "id": "WDPu-hYUDFVS",
        "outputId": "b7c8d9c7-faf0-4f2e-b0a3-f083d3296cf9"
      },
      "execution_count": null,
      "outputs": [
        {
          "output_type": "stream",
          "name": "stdout",
          "text": [
            "10\n",
            "hello world\n",
            "London Paris\n"
          ]
        }
      ]
    },
    {
      "cell_type": "code",
      "source": [
        "print(10*2)"
      ],
      "metadata": {
        "colab": {
          "base_uri": "https://localhost:8080/"
        },
        "id": "PQ--9cxIEWXk",
        "outputId": "20221fcd-6618-4783-bf5e-d6ba934ea731"
      },
      "execution_count": null,
      "outputs": [
        {
          "output_type": "stream",
          "name": "stdout",
          "text": [
            "20\n"
          ]
        }
      ]
    },
    {
      "cell_type": "code",
      "source": [
        "input(\"Enter your name : \")\n",
        "#ask name for future code\n"
      ],
      "metadata": {
        "colab": {
          "base_uri": "https://localhost:8080/",
          "height": 53
        },
        "id": "jFfB0uixEc46",
        "outputId": "6bc50786-7151-47c4-e199-5b13066fb9a3"
      },
      "execution_count": null,
      "outputs": [
        {
          "name": "stdout",
          "output_type": "stream",
          "text": [
            "Enter your name : Charlotte\n"
          ]
        },
        {
          "output_type": "execute_result",
          "data": {
            "text/plain": [
              "'Charlotte'"
            ],
            "application/vnd.google.colaboratory.intrinsic+json": {
              "type": "string"
            }
          },
          "metadata": {},
          "execution_count": 13
        }
      ]
    },
    {
      "cell_type": "code",
      "source": [
        "print(10.10)"
      ],
      "metadata": {
        "colab": {
          "base_uri": "https://localhost:8080/"
        },
        "id": "03iozfafFU4N",
        "outputId": "4526b32f-dce7-4b20-e102-b3e855b98edb"
      },
      "execution_count": null,
      "outputs": [
        {
          "output_type": "stream",
          "name": "stdout",
          "text": [
            "10.1\n"
          ]
        }
      ]
    },
    {
      "cell_type": "code",
      "source": [
        "#x is called variable\n",
        "x=10.20\n",
        "name = \"Charlotte\"\n",
        "\n",
        "print(x)\n",
        "print(name)\n",
        "\n",
        "age = 17\n",
        "last_name = \"Jazeron\"\n",
        "print(\"My last name is\",last_name,\"and my age is\",age)"
      ],
      "metadata": {
        "colab": {
          "base_uri": "https://localhost:8080/"
        },
        "id": "CG3Oz_ruFwYa",
        "outputId": "b42258a4-4f75-47dc-cecd-5bd9b430e7fb"
      },
      "execution_count": null,
      "outputs": [
        {
          "output_type": "stream",
          "name": "stdout",
          "text": [
            "10.2\n",
            "Charlotte\n",
            "My last name is Jazeron and my age is 17\n"
          ]
        }
      ]
    },
    {
      "cell_type": "code",
      "source": [
        "#Ask the user what is their city\n",
        "#Print the user city\n",
        "#*use a variable\n",
        "\n",
        "city = input(\"Where are you from? \")\n",
        "name = input(\"What is your first name? \")\n",
        "print(name,city)"
      ],
      "metadata": {
        "colab": {
          "base_uri": "https://localhost:8080/"
        },
        "id": "N3DuY9rdGbhS",
        "outputId": "0a40caa9-8c7a-4be4-b23a-bf661188d09b"
      },
      "execution_count": null,
      "outputs": [
        {
          "output_type": "stream",
          "name": "stdout",
          "text": [
            "Where are you from? La rochelle\n",
            "What is your first name ? Charlotte\n",
            "Charlotte La rochelle\n"
          ]
        }
      ]
    },
    {
      "cell_type": "code",
      "source": [
        "x =float(input(\" Enter a number \"))\n",
        "y =int(input(\"Enter a second number \"))\n",
        "print(\"Result is :\",x+y)"
      ],
      "metadata": {
        "colab": {
          "base_uri": "https://localhost:8080/"
        },
        "id": "bk_psxs2H8D5",
        "outputId": "c3767f01-145e-4bf1-e4d6-1f3d2c02a9be"
      },
      "execution_count": null,
      "outputs": [
        {
          "output_type": "stream",
          "name": "stdout",
          "text": [
            " Enter a number 23.9\n",
            "Enter a second number 5\n",
            "Result is : 28.9\n"
          ]
        }
      ]
    },
    {
      "cell_type": "code",
      "source": [
        "x =int(input(\"Enter a number : \"))\n",
        "y = int(input(\"Enter a second number : \"))\n",
        "z = int(input(\"Enter a third number :\"))\n",
        "print(\"The product is:\",x*y*z)"
      ],
      "metadata": {
        "colab": {
          "base_uri": "https://localhost:8080/"
        },
        "id": "xFGCfZCdKC-u",
        "outputId": "97a84603-be43-4ee9-ece8-e4a836767f94"
      },
      "execution_count": null,
      "outputs": [
        {
          "output_type": "stream",
          "name": "stdout",
          "text": [
            "Enter a number : 1\n",
            "Enter a second number : 2\n",
            "Enter a third number :3\n",
            "The product is: 6\n"
          ]
        }
      ]
    },
    {
      "cell_type": "code",
      "source": [
        "a=float(input(\"Give me a number: \"))\n",
        "b=float(input(\"Give me a second number: \"))\n",
        "if b == 0:\n",
        "  print(\"I cannot divide\")\n",
        "else:\n",
        "  print(\"The result is:\", a/b)"
      ],
      "metadata": {
        "colab": {
          "base_uri": "https://localhost:8080/"
        },
        "id": "X3kN5Ev_Kx_2",
        "outputId": "9ab9fc4a-c7d7-4b7b-b8a6-e6af7736f148"
      },
      "execution_count": null,
      "outputs": [
        {
          "output_type": "stream",
          "name": "stdout",
          "text": [
            "Give me a number: 3\n",
            "Give me a second number: 5\n",
            "The result is: 0.6\n"
          ]
        }
      ]
    },
    {
      "cell_type": "code",
      "source": [
        "city=input(\"Enter a city \")\n",
        "if city==\"Paris\":\n",
        "  print(\"Bonjour\")\n",
        "  print(10)\n",
        "else:\n",
        "  print(\"Hi\")\n",
        "  print(100)"
      ],
      "metadata": {
        "colab": {
          "base_uri": "https://localhost:8080/"
        },
        "id": "Km7xw_8bLOri",
        "outputId": "b8229b11-789a-4015-dfda-e0c0826202c2"
      },
      "execution_count": null,
      "outputs": [
        {
          "output_type": "stream",
          "name": "stdout",
          "text": [
            "Enter a city Paris\n",
            "Bonjour\n",
            "10\n"
          ]
        }
      ]
    },
    {
      "cell_type": "code",
      "source": [
        "a=float(input(\"Give me a number: \"))\n",
        "b=float(input(\"Give me a second number: \"))\n",
        "while b == 0:\n",
        "  b=float(input(\"Give me a new number\"))\n",
        "print(\"The result is:\", a/b)"
      ],
      "metadata": {
        "colab": {
          "base_uri": "https://localhost:8080/"
        },
        "id": "emQC9H2pNlhS",
        "outputId": "49d608af-918d-4a5e-d5ea-23bb5d747002"
      },
      "execution_count": null,
      "outputs": [
        {
          "output_type": "stream",
          "name": "stdout",
          "text": [
            "Give me a number: 3\n",
            "Give me a second number: 4\n",
            "The result is: 0.75\n"
          ]
        }
      ]
    },
    {
      "cell_type": "code",
      "source": [
        "def test(a,b):\n",
        "  if a >= 5 :\n",
        "    print(\"Hi\")\n",
        "  else:\n",
        "    print(\"Bonjour\")\n",
        "  if b <= 10:\n",
        "    return \"Hola\"\n",
        "  else:\n",
        "    return \"Hallo\"\n",
        "\n",
        "a = int(input(\"Give me a number \"))\n",
        "b = int(input(\"Give me a second number \"))\n",
        "print(test(a,b))"
      ],
      "metadata": {
        "colab": {
          "base_uri": "https://localhost:8080/"
        },
        "id": "j9UUuDstObXd",
        "outputId": "bf085383-a077-4785-a8cf-296785f07eea"
      },
      "execution_count": null,
      "outputs": [
        {
          "output_type": "stream",
          "name": "stdout",
          "text": [
            "Give me a number 8\n",
            "Give me a second number 4\n",
            "Hi\n",
            "Hola\n"
          ]
        }
      ]
    },
    {
      "cell_type": "code",
      "source": [
        "def problem(a,b):\n",
        "  c = 0\n",
        "  d=0\n",
        "  while a >= 4:\n",
        "    a -= 1\n",
        "    c +=1\n",
        "  while b <= 8:\n",
        "    b += 1\n",
        "    d += 1\n",
        "  return c,d\n",
        "\n",
        "print(problem(8,4))\n",
        "\n"
      ],
      "metadata": {
        "colab": {
          "base_uri": "https://localhost:8080/"
        },
        "id": "Ae91shdaQxDg",
        "outputId": "603bb460-debf-4041-e18d-226626821a82"
      },
      "execution_count": null,
      "outputs": [
        {
          "output_type": "stream",
          "name": "stdout",
          "text": [
            "(5, 5)\n"
          ]
        }
      ]
    },
    {
      "cell_type": "markdown",
      "source": [
        "Exercise 1\n",
        "Create a program to ask the user their name and their age\n",
        "If the user is over 18, then print you're an adult. If the the user is less, print you're a kid"
      ],
      "metadata": {
        "id": "ND3G7tvrSAdl"
      }
    },
    {
      "cell_type": "code",
      "source": [
        "name =input(\"What is your name? \")\n",
        "age = int(input(\"What is your age? \"))\n",
        "if age >= 18:\n",
        "  print(\"You're an adult\")\n",
        "else:\n",
        "  print(\"You're a kid\")"
      ],
      "metadata": {
        "colab": {
          "base_uri": "https://localhost:8080/"
        },
        "id": "nxewVLOvSSYv",
        "outputId": "460184cd-387f-43b6-f84b-0a5214487432"
      },
      "execution_count": null,
      "outputs": [
        {
          "output_type": "stream",
          "name": "stdout",
          "text": [
            "What is your name? Charlotte\n",
            "What is your age? 12\n",
            "You're a kid\n"
          ]
        }
      ]
    },
    {
      "cell_type": "markdown",
      "source": [
        "Create a program, ask the user to enter two numbers.\n",
        "Print the maximum number."
      ],
      "metadata": {
        "id": "mlNodo31UVLm"
      }
    },
    {
      "cell_type": "code",
      "source": [
        "\n",
        "a=float(input(\"Give me a number: \"))\n",
        "b=float(input(\"Give me a second number: \"))\n",
        "if a < b:\n",
        "  print(\"The maximum is \",b)\n",
        "elif a>b:\n",
        "  print(\"The maximum is\",a)\n",
        "else:\n",
        "  print(\"Both the numbers are equal\")\n",
        "#Different response\n",
        "print(\"The maximum is\",max(a,b))"
      ],
      "metadata": {
        "colab": {
          "base_uri": "https://localhost:8080/"
        },
        "id": "mAzNEk89SQfu",
        "outputId": "796e1f6a-7f85-414d-b318-74b7454a257c"
      },
      "execution_count": null,
      "outputs": [
        {
          "output_type": "stream",
          "name": "stdout",
          "text": [
            "Give me a number: 3\n",
            "Give me a second number: 2\n",
            "The maximum is 3.0\n",
            "The maximum is 3.0\n"
          ]
        }
      ]
    },
    {
      "cell_type": "code",
      "source": [
        "x=10\n",
        "y=20\n",
        "if x>y:\n",
        "  print(\"x is greater than y\")\n",
        "elif x<y:\n",
        "  print(\"x is less than y\")\n",
        "else:\n",
        "  print(\"x is equal to y\")"
      ],
      "metadata": {
        "colab": {
          "base_uri": "https://localhost:8080/"
        },
        "id": "1xpWOO72V-wJ",
        "outputId": "361829fa-e883-491c-ad30-29c0d0d95f61"
      },
      "execution_count": null,
      "outputs": [
        {
          "output_type": "stream",
          "name": "stdout",
          "text": [
            "x is less than y\n"
          ]
        }
      ]
    },
    {
      "cell_type": "markdown",
      "source": [
        "Create a program to ask the user to enter a score.\n",
        "If the score is less than 50 you failed.\n",
        "If the score is between and 70 is pass.\n",
        "If the score is greater than 70, is distinction"
      ],
      "metadata": {
        "id": "bwkP-RuBWaEN"
      }
    },
    {
      "cell_type": "code",
      "source": [
        "score =int(input(\"Give me your score: \")) #Can use float\n",
        "\n",
        "if score >0 and score<50:\n",
        "  print(\"You fail\" )\n",
        "elif score>=50 and score<70:\n",
        "  print(\"You pass\")\n",
        "elif score >=70 and score<=100:\n",
        "  print(\"You pass with distinction\")\n",
        "else:\n",
        "  print(\"Something is wrong\")"
      ],
      "metadata": {
        "colab": {
          "base_uri": "https://localhost:8080/"
        },
        "id": "79fP9Q8zWqcc",
        "outputId": "15cc8bda-e39e-4f66-e3a4-c33750b29feb"
      },
      "execution_count": null,
      "outputs": [
        {
          "output_type": "stream",
          "name": "stdout",
          "text": [
            "Give me your score: -23\n",
            "You fail\n",
            "Something is wrong\n"
          ]
        }
      ]
    },
    {
      "cell_type": "markdown",
      "source": [
        "# Lesson 2 : 30/09/2024"
      ],
      "metadata": {
        "id": "Q33IeLvfoHJU"
      }
    },
    {
      "cell_type": "code",
      "source": [
        "name = input(\"What is your name ? \")\n",
        "print(\"Your name is\" ,name)"
      ],
      "metadata": {
        "id": "IoXK-LdDYNXg",
        "colab": {
          "base_uri": "https://localhost:8080/"
        },
        "outputId": "bb9c320c-4fe4-4f21-93a2-817dea1fcdf4"
      },
      "execution_count": null,
      "outputs": [
        {
          "output_type": "stream",
          "name": "stdout",
          "text": [
            "What is your name ? Charlotte\n",
            "Your name is Charlotte\n"
          ]
        }
      ]
    },
    {
      "cell_type": "code",
      "source": [
        "num = float(input(\"Enter a number \"))\n",
        "print(num*5)"
      ],
      "metadata": {
        "colab": {
          "base_uri": "https://localhost:8080/"
        },
        "id": "HPvLtgEzo91e",
        "outputId": "f5eb8bc3-1eb8-4e4f-b59e-2d2b60379c13"
      },
      "execution_count": null,
      "outputs": [
        {
          "output_type": "stream",
          "name": "stdout",
          "text": [
            "Enter a number 4.688\n",
            "23.439999999999998\n"
          ]
        }
      ]
    },
    {
      "cell_type": "code",
      "source": [
        "num = float(input(\"Enter a number: \"))\n",
        "if num>0:\n",
        "  print(\"Positive\")\n",
        "else:\n",
        "  print(\"Negative\")"
      ],
      "metadata": {
        "colab": {
          "base_uri": "https://localhost:8080/"
        },
        "id": "XBAzfbTQpFY3",
        "outputId": "9cfcf166-a168-44a8-96c0-a755c5cc27ed"
      },
      "execution_count": null,
      "outputs": [
        {
          "output_type": "stream",
          "name": "stdout",
          "text": [
            "Enter a number: 87\n",
            "Positive\n"
          ]
        }
      ]
    },
    {
      "cell_type": "code",
      "source": [
        "num1 = float(input(\"Give me a number: \"))\n",
        "operation = input(\"Enter an operation (+,-,*,/,**): \")\n",
        "num2 = float(input(\"Give me a second number: \"))\n",
        "\n",
        "if operation==\"+\":#Addition\n",
        "  print(num1+num2)\n",
        "elif operation==\"-\": #Substraction\n",
        "  print(num1-num2)\n",
        "elif operation==\"*\": #Multiplication\n",
        "  print(num1*num2)\n",
        "elif operation==\"/\" and num2 != 0: #Division\n",
        "    print(num1/num2)\n",
        "elif operation==\"**\": #Exposant\n",
        "  print(num1**num2)\n",
        "else:\n",
        "  print(\"I do not support this operation\")"
      ],
      "metadata": {
        "colab": {
          "base_uri": "https://localhost:8080/"
        },
        "id": "rQHKJLEFpZCF",
        "outputId": "b7f51d63-5fc9-4fd5-81c7-42b6a511b47b"
      },
      "execution_count": null,
      "outputs": [
        {
          "output_type": "stream",
          "name": "stdout",
          "text": [
            "Give me a number: 0\n",
            "Enter an operation (+,-,*,/,**): **\n",
            "Give me a second number: 0\n",
            "1.0\n"
          ]
        }
      ]
    },
    {
      "cell_type": "markdown",
      "source": [
        "Ask the user to enter a number.\n",
        "If the number is between 0 and 1, print the percentage of the number.\n",
        "In any other case print, please enter a number between 0 and 1"
      ],
      "metadata": {
        "id": "NkbUM9nsr8Gt"
      }
    },
    {
      "cell_type": "code",
      "source": [
        "num = float(input(\"Enter a number: \")) #To print percentage\n",
        "if num>=0 and num<=1:\n",
        "  print(\"Percentage is\",num*100,\"%\")\n",
        "else:\n",
        "  print(\"Please enter a number between 0 and 1\")"
      ],
      "metadata": {
        "colab": {
          "base_uri": "https://localhost:8080/"
        },
        "id": "PXhrwt1zsSAV",
        "outputId": "76ab30bf-9e54-4963-bf78-e92614a33457"
      },
      "execution_count": null,
      "outputs": [
        {
          "output_type": "stream",
          "name": "stdout",
          "text": [
            "Enter a number: 0.345\n",
            "Percentage is 34.5 %\n"
          ]
        }
      ]
    },
    {
      "cell_type": "code",
      "source": [
        "num = float(input(\"Enter a number: \"))\n",
        "condition = False\n",
        "while condition == False:\n",
        "  if num >=0 and num<=1:\n",
        "    condition = True\n",
        "  else:\n",
        "    num = float(input(\"Please enter another number between 0 and 1 \"))\n",
        "print(num*100, \"%\")"
      ],
      "metadata": {
        "colab": {
          "base_uri": "https://localhost:8080/"
        },
        "id": "_tD6PeqgtP5U",
        "outputId": "073c9603-4926-4607-97d9-abe784a40204"
      },
      "execution_count": null,
      "outputs": [
        {
          "output_type": "stream",
          "name": "stdout",
          "text": [
            "Enter a number: 4\n",
            "Please enter another number between 0 and 1 8\n",
            "Please enter another number between 0 and 1 4\n",
            "Please enter another number between 0 and 1 0.5\n",
            "50.0 %\n"
          ]
        }
      ]
    },
    {
      "cell_type": "code",
      "source": [
        "name = \"Tomas\"\n",
        "print(name[3])"
      ],
      "metadata": {
        "colab": {
          "base_uri": "https://localhost:8080/"
        },
        "id": "acArqZlCuBEB",
        "outputId": "877c4e5c-a813-4591-ae7a-528c0ab5da13"
      },
      "execution_count": null,
      "outputs": [
        {
          "output_type": "stream",
          "name": "stdout",
          "text": [
            "a\n"
          ]
        }
      ]
    },
    {
      "cell_type": "code",
      "source": [
        "text = \"My name is Stelios and I live in London\"\n",
        "print(text[-1])\n",
        "print(text[-6])\n",
        "print(text[3:7])\n",
        "print(text[-6:])"
      ],
      "metadata": {
        "colab": {
          "base_uri": "https://localhost:8080/"
        },
        "id": "HVRX6LuVuQTG",
        "outputId": "52b77989-7ccc-46e3-81ed-2d1716e8a8bc"
      },
      "execution_count": null,
      "outputs": [
        {
          "output_type": "stream",
          "name": "stdout",
          "text": [
            "n\n",
            "L\n",
            "name\n",
            "London\n"
          ]
        }
      ]
    },
    {
      "cell_type": "markdown",
      "source": [
        "Ask the user to enter a city.\n",
        "If the user enters a city starting with L capital, print \"Starts with L capital\"\n",
        "Else print someting else"
      ],
      "metadata": {
        "id": "o-WEhtZAw9qI"
      }
    },
    {
      "cell_type": "code",
      "source": [
        "city = input(\"Enter a city: \")\n",
        "if city[0] == \"L\":\n",
        "  print(\"Starts with L capital\")\n",
        "else:\n",
        "  print(\"Does not start with L capital\")"
      ],
      "metadata": {
        "colab": {
          "base_uri": "https://localhost:8080/"
        },
        "id": "RYSW-bBLw8on",
        "outputId": "893113b6-92b0-4d91-893e-6be3adfe2b78"
      },
      "execution_count": null,
      "outputs": [
        {
          "output_type": "stream",
          "name": "stdout",
          "text": [
            "Enter a city: La Rochelle\n",
            "Starts with L capital\n"
          ]
        }
      ]
    },
    {
      "cell_type": "markdown",
      "source": [
        "Ask the user to enter a phrase. If the phrase doesn't finish with dot(.), say you need a dot! else say all good!"
      ],
      "metadata": {
        "id": "CjZi89KDx4Ui"
      }
    },
    {
      "cell_type": "code",
      "source": [
        "phrase = input(\"Write a sentence: \")\n",
        "if phrase[-1] != \".\":\n",
        "  print(\"You need a dot!\")\n",
        "else:\n",
        "  print(\"All good!\")"
      ],
      "metadata": {
        "colab": {
          "base_uri": "https://localhost:8080/"
        },
        "id": "4aoe69lfyDrk",
        "outputId": "f7e41f70-51e1-4d80-808d-dd2542c29215"
      },
      "execution_count": null,
      "outputs": [
        {
          "output_type": "stream",
          "name": "stdout",
          "text": [
            "Write a sentence: Computer Sciences is awesome.\n",
            "All good\n"
          ]
        }
      ]
    },
    {
      "cell_type": "markdown",
      "source": [
        "# Lesson 3 : 07/10/2024"
      ],
      "metadata": {
        "id": "Z-2gEduCqIxb"
      }
    },
    {
      "cell_type": "code",
      "source": [
        "num = int(input(\"Enter a number \"))\n",
        "if num>0:\n",
        "  print(\"Positive\")\n",
        "else:\n",
        "  print(\"Negative or zero\")\n"
      ],
      "metadata": {
        "colab": {
          "base_uri": "https://localhost:8080/"
        },
        "id": "ayuJNeo2qR1W",
        "outputId": "afc247cf-fb1d-4ed4-96a7-7ed8e7c43ad2"
      },
      "execution_count": 1,
      "outputs": [
        {
          "output_type": "stream",
          "name": "stdout",
          "text": [
            "Enter a number3\n",
            "Positive\n"
          ]
        }
      ]
    },
    {
      "cell_type": "code",
      "source": [
        "num = int(input(\"Enter a number \"))\n",
        "if num>0:\n",
        "  positive = True\n",
        "else:\n",
        "  positive = False\n",
        "print(\"Is positive? \",positive)\n",
        "\n"
      ],
      "metadata": {
        "colab": {
          "base_uri": "https://localhost:8080/"
        },
        "id": "kRVcltvx5GLG",
        "outputId": "a6845280-26e0-436b-ac25-a66b93abf692"
      },
      "execution_count": 2,
      "outputs": [
        {
          "output_type": "stream",
          "name": "stdout",
          "text": [
            "Enter a number 43\n",
            "Is positive?  True\n"
          ]
        }
      ]
    },
    {
      "cell_type": "markdown",
      "source": [
        "* If age < 18 you cannot watch film\n",
        "* If age >= 18 you can watch it\n",
        "* If you are over 60 you are senior and you have a discount"
      ],
      "metadata": {
        "id": "eIF2EfRI5aO2"
      }
    },
    {
      "cell_type": "code",
      "source": [
        "age = int(input(\"Enter age: \"))\n",
        "if age<18:\n",
        "  watch = False\n",
        "else:\n",
        "  watch = True\n",
        "if age >=60:\n",
        "  senior = True\n",
        "else:\n",
        "  senior = False\n",
        "print(age, watch, senior)"
      ],
      "metadata": {
        "colab": {
          "base_uri": "https://localhost:8080/"
        },
        "id": "eWYSJwb45pDy",
        "outputId": "690a5342-1eb1-459a-a021-dbed61b8c988"
      },
      "execution_count": 6,
      "outputs": [
        {
          "output_type": "stream",
          "name": "stdout",
          "text": [
            "Enter age: 36\n",
            "36 True False\n"
          ]
        }
      ]
    },
    {
      "cell_type": "markdown",
      "source": [
        "* if your score is less than 10, you fail\n",
        "* if 10-20 you pass\n",
        "* if >15 distinction\n",
        "If you get a distinction you get an award!"
      ],
      "metadata": {
        "id": "nVVL07w_6fY1"
      }
    },
    {
      "cell_type": "code",
      "source": [
        "score= int(input(\"Enter your score \"))\n",
        "if score <10:\n",
        "  fail = True\n",
        "else:\n",
        "  fail = False\n",
        "if score >15:\n",
        "  distinction = True\n",
        "else:\n",
        "  distinction = False\n",
        "print(\"With your score of\",score,\",fail is\",fail,\"and distinction is\",distinction)"
      ],
      "metadata": {
        "colab": {
          "base_uri": "https://localhost:8080/"
        },
        "id": "TijwGvNT6b-y",
        "outputId": "3afb826e-33c2-47ff-a3a0-54d34f50cc47"
      },
      "execution_count": 10,
      "outputs": [
        {
          "output_type": "stream",
          "name": "stdout",
          "text": [
            "Enter your score 14\n",
            "With your score of 14 ,fail is False and distinction is False\n"
          ]
        }
      ]
    },
    {
      "cell_type": "markdown",
      "source": [
        "* If temp < 20 you turn on the heat\n",
        "* If the heat is on, you close the windows\n",
        "* If the windows are closed, turn on the ventilation"
      ],
      "metadata": {
        "id": "NEUMsMI47rSX"
      }
    },
    {
      "cell_type": "code",
      "source": [
        "temp = int(input(\"Enter the temperature: \"))\n",
        "if temp < 20:\n",
        "  heat = True\n",
        "else:\n",
        "  heat = False\n",
        "if heat ==True:\n",
        "  windows = False\n",
        "else:\n",
        "  windows = True\n",
        "if windows == False:\n",
        "  ventilation = True\n",
        "else:\n",
        "  ventilation = False\n",
        "print(\"With a temperature of\",temp,\"the heat is\", heat,\",the windows are\",windows,\"and the ventilation is\",ventilation)\n"
      ],
      "metadata": {
        "colab": {
          "base_uri": "https://localhost:8080/"
        },
        "id": "3Bdk0gqq73MF",
        "outputId": "a334780f-2783-41b0-a6cb-77d44933f16c"
      },
      "execution_count": 11,
      "outputs": [
        {
          "output_type": "stream",
          "name": "stdout",
          "text": [
            "Enter the temperature: 18\n",
            "With a temperature of 18 the heat is True ,the windows are False and the ventilation is True\n"
          ]
        }
      ]
    },
    {
      "cell_type": "code",
      "source": [
        "students = ['Mary','Tom','Stelios','Kate']\n",
        "scores = [15,12,9,18]\n",
        "print(students[0:2])\n",
        "print(scores)"
      ],
      "metadata": {
        "colab": {
          "base_uri": "https://localhost:8080/"
        },
        "id": "573fqM059wXf",
        "outputId": "4b6850e8-34b4-49d7-b633-d01b6e610f86"
      },
      "execution_count": 21,
      "outputs": [
        {
          "output_type": "stream",
          "name": "stdout",
          "text": [
            "['Mary', 'Tom']\n",
            "[15, 12, 9, 18]\n"
          ]
        }
      ]
    },
    {
      "cell_type": "code",
      "source": [
        "scores[0]\n",
        "scores[-1]\n",
        "scores[1:3]"
      ],
      "metadata": {
        "colab": {
          "base_uri": "https://localhost:8080/"
        },
        "id": "cK5YQFu--4j3",
        "outputId": "767b74f7-01b0-4129-ff29-d117b21512ce"
      },
      "execution_count": 24,
      "outputs": [
        {
          "output_type": "execute_result",
          "data": {
            "text/plain": [
              "[12, 9]"
            ]
          },
          "metadata": {},
          "execution_count": 24
        }
      ]
    },
    {
      "cell_type": "code",
      "source": [
        "numbers = [10,20,30,40,50,60,70,80,90]\n",
        "\n",
        "print(numbers[1])\n",
        "print(numbers[-2])\n",
        "print(numbers[0:3])\n",
        "print(numbers[-3:])\n",
        "print(numbers[4:6])"
      ],
      "metadata": {
        "colab": {
          "base_uri": "https://localhost:8080/"
        },
        "id": "w-cDpyKr_Azq",
        "outputId": "550e37d0-1bfd-4c51-cbcf-a0ffcd387c74"
      },
      "execution_count": 27,
      "outputs": [
        {
          "output_type": "stream",
          "name": "stdout",
          "text": [
            "20\n",
            "80\n",
            "[10, 20, 30]\n",
            "[70, 80, 90]\n",
            "[50, 60]\n"
          ]
        }
      ]
    }
  ]
}
